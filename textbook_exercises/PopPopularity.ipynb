{
 "cells": [
  {
   "cell_type": "code",
   "execution_count": 49,
   "id": "053bc087",
   "metadata": {},
   "outputs": [],
   "source": [
    "import matplotlib.pyplot as plt\n",
    "import numpy as np\n",
    "\n",
    "from ipywidgets import interact\n",
    "\n",
    "# constants\n",
    "r = 0.2\n",
    "K = 1.0\n",
    "# d = 0.001\n",
    "Dt = 0.01\n",
    "\n",
    "def observe(result, state):\n",
    "    result.append(state)\n",
    "\n",
    "def update(state, d):\n",
    "    x, t = state\n",
    "    x = x + (r * x * (1 - x/ K) - d*t*x) * Dt\n",
    "    t = t + Dt\n",
    "    return x, t"
   ]
  },
  {
   "cell_type": "code",
   "execution_count": 50,
   "id": "ea6b7ed1",
   "metadata": {},
   "outputs": [
    {
     "data": {
      "application/vnd.jupyter.widget-view+json": {
       "model_id": "7a5511a48d764af881c7184100337c69",
       "version_major": 2,
       "version_minor": 0
      },
      "text/plain": [
       "interactive(children=(FloatSlider(value=0.01, description='d', max=0.2, min=0.01, step=0.01), Output()), _dom_…"
      ]
     },
     "metadata": {},
     "output_type": "display_data"
    }
   ],
   "source": [
    "def simulate(d):\n",
    "    state = [0.01, 0.]\n",
    "    result = [state]\n",
    "\n",
    "    while state[-1] < 60.:\n",
    "        state = update(state, d)\n",
    "        observe(result, state)\n",
    "    \n",
    "    return result\n",
    "\n",
    "@interact(d=(0.01, 0.2, 0.01))\n",
    "def simulate_interact(d = 0.01):\n",
    "    result = simulate(d)\n",
    "\n",
    "    xs, timestamps = np.transpose(result)\n",
    "    plt.plot(timestamps, xs)\n",
    "    plt.ylabel('popularity')\n",
    "    plt.xlabel('time')\n",
    "    plt.show()"
   ]
  },
  {
   "cell_type": "code",
   "execution_count": null,
   "id": "b48f3e5d",
   "metadata": {},
   "outputs": [],
   "source": []
  }
 ],
 "metadata": {
  "kernelspec": {
   "display_name": "Python 3 (ipykernel)",
   "language": "python",
   "name": "python3"
  },
  "language_info": {
   "codemirror_mode": {
    "name": "ipython",
    "version": 3
   },
   "file_extension": ".py",
   "mimetype": "text/x-python",
   "name": "python",
   "nbconvert_exporter": "python",
   "pygments_lexer": "ipython3",
   "version": "3.10.6"
  }
 },
 "nbformat": 4,
 "nbformat_minor": 5
}
