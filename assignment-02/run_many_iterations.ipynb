{
 "cells": [
  {
   "cell_type": "code",
   "execution_count": 34,
   "metadata": {},
   "outputs": [],
   "source": [
    "from lib.core_simulation import (forestSimulation, forestConfig)\n",
    "import pandas as pd\n",
    "from multiprocessing import Pool\n",
    "\n",
    "config = forestConfig(**{\n",
    "    \"seed\": 0, \"width\": 120, \"height\": 100,\n",
    "    \"p_tree\": 0.01, \"p_sprout\": 0.0005, \"p_propagate\": 0.001, \"p_lightning\": 0.00005\n",
    "})\n",
    "\n",
    "simTest = forestSimulation(config)"
   ]
  },
  {
   "cell_type": "code",
   "execution_count": 35,
   "metadata": {},
   "outputs": [
    {
     "name": "stdout",
     "output_type": "stream",
     "text": [
      "Step 0/50\n"
     ]
    }
   ],
   "source": [
    "test = simTest.simulate(steps=50)"
   ]
  },
  {
   "cell_type": "code",
   "execution_count": 36,
   "metadata": {},
   "outputs": [],
   "source": [
    "import itertools\n",
    "import numpy as np\n",
    "\n",
    "p_tree = np.arange(0.10, 0.50, .1)\n",
    "p_sprout = np.arange(0.0001, 0.0005, .0001)\n",
    "p_propagate = np.arange(0.001, 0.005, .001)\n",
    "p_lightning = np.arange(0.0001, 0.0005, .0001)\n",
    "\n",
    "combos =  list(itertools.product(*[p_tree, p_sprout, p_propagate, p_lightning]))"
   ]
  },
  {
   "cell_type": "code",
   "execution_count": 37,
   "metadata": {},
   "outputs": [],
   "source": [
    "def replace_params(coms, config):\n",
    "    config_new = config._replace(p_tree=coms[0])\n",
    "    config_new = config_new._replace(p_sprout=coms[1])\n",
    "    config_new = config_new._replace(p_propagate=coms[2])\n",
    "    config_new = config_new._replace(p_lightning=coms[3])\n",
    "    return config_new"
   ]
  },
  {
   "cell_type": "code",
   "execution_count": 38,
   "metadata": {},
   "outputs": [],
   "source": [
    "configs = [replace_params(comb, config) for comb in combos]"
   ]
  },
  {
   "cell_type": "code",
   "execution_count": 39,
   "metadata": {},
   "outputs": [],
   "source": [
    "def simulate_df(config):\n",
    "    simTest = forestSimulation(config)\n",
    "    results = simTest.simulate(steps=750)\n",
    "    df = pd.DataFrame(results, columns = \n",
    "    [\"burn_prop\", \"tree_prop\"]).reset_index().rename(columns ={\"index\": \"step\"})\n",
    "    df[\"p_tree\"] = config.p_tree\n",
    "    df[\"p_sprout\"] = config.p_sprout\n",
    "    df[\"p_propagate\"] = config.p_propagate\n",
    "    df[\"p_lightning\"] = config.p_lightning\n",
    "    return df"
   ]
  },
  {
   "cell_type": "code",
   "execution_count": 40,
   "metadata": {},
   "outputs": [
    {
     "name": "stdout",
     "output_type": "stream",
     "text": [
      "Step 0/50\n",
      "Step 0/50\n",
      "Step 0/50\n",
      "Step 0/50\n"
     ]
    }
   ],
   "source": [
    "history = [simulate_df(config) for config in configs]\n",
    "history_df = pd.concat(history).reset_index(drop = True)\n",
    "history_df.to_csv(\"result_2022_10_16_kkent.csv\")"
   ]
  }
 ],
 "metadata": {
  "kernelspec": {
   "display_name": "Python 3.9.9 64-bit",
   "language": "python",
   "name": "python3"
  },
  "language_info": {
   "codemirror_mode": {
    "name": "ipython",
    "version": 3
   },
   "file_extension": ".py",
   "mimetype": "text/x-python",
   "name": "python",
   "nbconvert_exporter": "python",
   "pygments_lexer": "ipython3",
   "version": "3.10.7"
  },
  "orig_nbformat": 4,
  "vscode": {
   "interpreter": {
    "hash": "e7370f93d1d0cde622a1f8e1c04877d8463912d04d973331ad4851f04de6915a"
   }
  }
 },
 "nbformat": 4,
 "nbformat_minor": 2
}
