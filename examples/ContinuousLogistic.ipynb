{
 "cells": [
  {
   "cell_type": "code",
   "execution_count": 2,
   "id": "43ae4243",
   "metadata": {},
   "outputs": [],
   "source": [
    "import matplotlib.pyplot as plt\n",
    "import numpy as np\n",
    "\n",
    "from ipywidgets import interact\n",
    "\n",
    "# constants\n",
    "r = 0.2\n",
    "K = 1.0\n",
    "\n",
    "def observe(result, state):\n",
    "    result.append(state)\n",
    "\n",
    "def update(state, Dt):\n",
    "    x, t = state\n",
    "    x = x + r * x * (1 - x / K) * Dt\n",
    "    t = t + Dt\n",
    "    return x, t"
   ]
  },
  {
   "cell_type": "code",
   "execution_count": 8,
   "id": "be9b485a",
   "metadata": {},
   "outputs": [
    {
     "data": {
      "application/vnd.jupyter.widget-view+json": {
       "model_id": "ef7855dfef5946cb8fbf12ec22a57d7c",
       "version_major": 2,
       "version_minor": 0
      },
      "text/plain": [
       "interactive(children=(FloatSlider(value=2.5000000000000004, description='Dt', max=5.0, min=0.1), Output()), _d…"
      ]
     },
     "metadata": {},
     "output_type": "display_data"
    }
   ],
   "source": [
    "@interact(Dt=(0.1, 5, 0.1))\n",
    "def simulate(Dt):\n",
    "    state = [0.005, 0.]\n",
    "    result = [state]\n",
    "\n",
    "    while state[1] < 55.:\n",
    "        state = update(state, Dt)\n",
    "        observe(result, state)\n",
    "\n",
    "    amounts, timestamps = np.transpose(result)\n",
    "    plt.plot(timestamps, amounts)\n",
    "    plt.ylabel('amount')\n",
    "    plt.xlabel('time')\n",
    "    plt.show()"
   ]
  },
  {
   "cell_type": "code",
   "execution_count": null,
   "id": "baa080ed",
   "metadata": {},
   "outputs": [],
   "source": []
  }
 ],
 "metadata": {
  "kernelspec": {
   "display_name": "Python 3 (ipykernel)",
   "language": "python",
   "name": "python3"
  },
  "language_info": {
   "codemirror_mode": {
    "name": "ipython",
    "version": 3
   },
   "file_extension": ".py",
   "mimetype": "text/x-python",
   "name": "python",
   "nbconvert_exporter": "python",
   "pygments_lexer": "ipython3",
   "version": "3.10.6"
  }
 },
 "nbformat": 4,
 "nbformat_minor": 5
}
